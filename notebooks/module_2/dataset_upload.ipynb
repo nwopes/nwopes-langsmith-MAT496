{
 "cells": [
  {
   "cell_type": "markdown",
   "metadata": {},
   "source": [
    "# Dataset Upload"
   ]
  },
  {
   "cell_type": "markdown",
   "metadata": {},
   "source": [
    "In addition to creating and editing Datasets in the LangSmith UI, you can also create and edit datasets with the LangSmith SDK."
   ]
  },
  {
   "cell_type": "markdown",
   "metadata": {},
   "source": [
    "Let's go ahead an upload a list of examples that we have from our RAG application to LangSmith as a new dataset."
   ]
  },
  {
   "cell_type": "code",
   "execution_count": null,
   "metadata": {},
   "outputs": [],
   "source": [
    "# You can set them inline\n",
    "import os\n",
    "os.environ[\"OPENAI_API_KEY\"] = \"\"\n",
    "os.environ[\"LANGSMITH_API_KEY\"] = \"\"\n",
    "os.environ[\"LANGSMITH_TRACING\"] = \"true\"\n",
    "os.environ[\"LANGSMITH_PROJECT\"] = \"langsmith-academy\""
   ]
  },
  {
   "cell_type": "code",
   "execution_count": 1,
   "metadata": {},
   "outputs": [
    {
     "data": {
      "text/plain": [
       "True"
      ]
     },
     "execution_count": 1,
     "metadata": {},
     "output_type": "execute_result"
    }
   ],
   "source": [
    "# Or you can use a .env file\n",
    "from dotenv import load_dotenv\n",
    "load_dotenv(dotenv_path=\"../../.env\", override=True)"
   ]
  },
  {
   "cell_type": "code",
   "execution_count": 2,
   "metadata": {},
   "outputs": [
    {
     "data": {
      "text/plain": [
       "{'example_ids': ['f6c8615d-9c9d-45a8-917f-37ddd577adce',\n",
       "  '64daf27c-4313-470d-b5fa-d137941b9d6a',\n",
       "  '87d99b5b-494c-42c6-8619-b21e92c47b3f',\n",
       "  '775ff707-d8ec-4bf4-b494-375cd39c83ee',\n",
       "  'ff762f26-8c37-40f8-ae80-1607a7dea735',\n",
       "  '1f37f9ce-17c7-4dd1-b166-927f8fcabb96',\n",
       "  'd056f4df-af36-4942-a406-6e9e014cc55a',\n",
       "  '4d3b31bd-a497-4ff7-aa65-65a31543687c',\n",
       "  'fd284fc9-cdef-4d44-b36e-6b77bc918a0d',\n",
       "  '7934f8be-0fff-445b-af03-3d5ab63acd61'],\n",
       " 'count': 10}"
      ]
     },
     "execution_count": 2,
     "metadata": {},
     "output_type": "execute_result"
    }
   ],
   "source": [
    "from langsmith import Client\n",
    "\n",
    "# Fun facts dataset - because who doesn't love random trivia! 🎉\n",
    "example_inputs = [\n",
    "(\"What animal can sleep for up to 22 hours a day?\", \"Koalas can sleep for up to 22 hours a day! They need all that rest because their eucalyptus diet provides very little energy, so they conserve it by sleeping most of the time.\"),\n",
    "(\"Which planet has the most moons in our solar system?\", \"Saturn has the most moons in our solar system with 146 confirmed moons! Jupiter comes in second with 95 moons. Many of these are tiny irregular moons that were likely captured asteroids.\"),\n",
    "(\"What's the only mammal capable of true flight?\", \"Bats are the only mammals capable of true flight! While other mammals like flying squirrels can glide, bats have wings with a membrane stretched between elongated finger bones that allows them to actively fly.\"),\n",
    "(\"How many hearts does an octopus have?\", \"An octopus has three hearts! Two pump blood to the gills, while the third pumps blood to the rest of the body. Interestingly, the main heart stops beating when they swim, which is why they prefer crawling.\"),\n",
    "(\"What's the fastest land animal in the world?\", \"The cheetah is the fastest land animal, capable of reaching speeds up to 70 mph (112 km/h) in short bursts! However, they can only maintain this speed for about 20-30 seconds before overheating.\"),\n",
    "(\"Which fruit was once considered poisonous in Europe?\", \"Tomatoes were once considered poisonous in Europe! This was actually due to lead poisoning from wealthy people's pewter plates, which leached lead when acidic tomatoes were placed on them.\"),\n",
    "(\"What's the smallest bone in the human body?\", \"The stapes bone in the middle ear is the smallest bone in the human body, measuring only about 2-3 millimeters! It's also known as the stirrup bone due to its shape.\"),\n",
    "(\"How many smell receptors do dogs have compared to humans?\", \"Dogs have about 300 million smell receptors compared to humans who only have about 6 million! This gives them a sense of smell that's roughly 10,000 to 100,000 times better than ours.\"),\n",
    "(\"What's the only food that never spoils?\", \"Honey is the only food that never spoils! Archaeologists have found pots of honey in ancient Egyptian tombs that are over 3,000 years old and still perfectly edible. Its low moisture content and acidic pH prevent bacterial growth.\"),\n",
    "(\"Which ocean is the deepest point on Earth located in?\", \"The deepest point on Earth is the Challenger Deep in the Mariana Trench, located in the Pacific Ocean. It reaches a depth of approximately 36,200 feet (11,034 meters) below sea level!\"),\n",
    "]\n",
    "\n",
    "client = Client()\n",
    "# TODO: Fill in dataset id\n",
    "dataset_id = \"ce78dc7d-86c4-43f8-8302-564597140f19\"\n",
    "\n",
    "# Prepare inputs and outputs for bulk creation\n",
    "inputs = [{\"question\": input_prompt} for input_prompt, _ in example_inputs]\n",
    "outputs = [{\"output\": output_answer} for _, output_answer in example_inputs]\n",
    "\n",
    "client.create_examples(\n",
    "  inputs=inputs,\n",
    "  outputs=outputs,\n",
    "  dataset_id=dataset_id,\n",
    ")"
   ]
  },
  {
   "cell_type": "markdown",
   "metadata": {},
   "source": [
    "## Submitting another Trace"
   ]
  },
  {
   "cell_type": "markdown",
   "metadata": {},
   "source": [
    "I've moved our RAG application definition to `app.py` so we can quickly import it."
   ]
  },
  {
   "cell_type": "code",
   "execution_count": 3,
   "metadata": {},
   "outputs": [
    {
     "name": "stderr",
     "output_type": "stream",
     "text": [
      "USER_AGENT environment variable not set, consider setting it to identify your requests.\n"
     ]
    }
   ],
   "source": [
    "from app import langsmith_rag"
   ]
  },
  {
   "cell_type": "markdown",
   "metadata": {},
   "source": [
    "Let's ask another question to create a new trace!"
   ]
  },
  {
   "cell_type": "code",
   "execution_count": 4,
   "metadata": {},
   "outputs": [
    {
     "data": {
      "text/plain": [
       "'The animal that can sleep for up to 22 hours a day is the koala. They have a very energy-intensive diet of eucalyptus leaves, which leads to their long sleep durations. Koalas typically sleep to conserve energy while digesting their food.'"
      ]
     },
     "execution_count": 4,
     "metadata": {},
     "output_type": "execute_result"
    }
   ],
   "source": [
    "question = \"What animal can sleep for up to 22 hours a day?\"\n",
    "langsmith_rag(question)"
   ]
  }
 ],
 "metadata": {
  "kernelspec": {
   "display_name": "Python 3",
   "language": "python",
   "name": "python3"
  },
  "language_info": {
   "codemirror_mode": {
    "name": "ipython",
    "version": 3
   },
   "file_extension": ".py",
   "mimetype": "text/x-python",
   "name": "python",
   "nbconvert_exporter": "python",
   "pygments_lexer": "ipython3",
   "version": "3.12.6"
  }
 },
 "nbformat": 4,
 "nbformat_minor": 4
}
