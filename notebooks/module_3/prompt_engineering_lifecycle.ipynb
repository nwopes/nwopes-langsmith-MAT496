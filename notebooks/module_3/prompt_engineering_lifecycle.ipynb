{
 "cells": [
  {
   "cell_type": "markdown",
   "metadata": {},
   "source": [
    "# Prompt Engineering Lifecycle"
   ]
  },
  {
   "cell_type": "markdown",
   "metadata": {},
   "source": [
    "### Setup"
   ]
  },
  {
   "cell_type": "code",
   "execution_count": null,
   "metadata": {},
   "outputs": [],
   "source": [
    "# You can set them inline\n",
    "import os\n",
    "os.environ[\"OPENAI_API_KEY\"] = \"\"\n",
    "os.environ[\"LANGSMITH_API_KEY\"] = \"\"\n",
    "os.environ[\"LANGSMITH_TRACING\"] = \"true\"\n",
    "os.environ[\"LANGSMITH_PROJECT\"] = \"langsmith-academy\""
   ]
  },
  {
   "cell_type": "code",
   "execution_count": 1,
   "metadata": {},
   "outputs": [
    {
     "data": {
      "text/plain": [
       "True"
      ]
     },
     "execution_count": 1,
     "metadata": {},
     "output_type": "execute_result"
    }
   ],
   "source": [
    "# Or you can use a .env file\n",
    "from dotenv import load_dotenv\n",
    "load_dotenv(dotenv_path=\"../../.env\", override=True)"
   ]
  },
  {
   "cell_type": "markdown",
   "metadata": {},
   "source": [
    "### Log a trace"
   ]
  },
  {
   "cell_type": "code",
   "execution_count": 2,
   "metadata": {},
   "outputs": [
    {
     "name": "stderr",
     "output_type": "stream",
     "text": [
      "USER_AGENT environment variable not set, consider setting it to identify your requests.\n",
      "Fetching pages: 100%|##########| 197/197 [00:46<00:00,  4.23it/s]\n",
      "\n"
     ]
    },
    {
     "data": {
      "text/plain": [
       "\"I don't know.\""
      ]
     },
     "execution_count": 2,
     "metadata": {},
     "output_type": "execute_result"
    }
   ],
   "source": [
    "from app import langsmith_rag\n",
    "\n",
    "question = \"How fast can a cheetah run?\"\n",
    "langsmith_rag(question)"
   ]
  },
  {
   "cell_type": "markdown",
   "metadata": {},
   "source": [
    "### Create a Dataset"
   ]
  },
  {
   "cell_type": "markdown",
   "metadata": {},
   "source": [
    "Let's create a dataset with fascinating animal facts to evaluate this particular step of our application"
   ]
  },
  {
   "cell_type": "code",
   "execution_count": 3,
   "metadata": {},
   "outputs": [
    {
     "data": {
      "text/plain": [
       "{'example_ids': ['fda270cc-01a7-463d-921b-de0c2ff006ba',\n",
       "  '1c19f41e-d80d-4a53-9830-7c54fb578244',\n",
       "  'ecb8cbec-e602-43c9-8a0f-e41a1b8b37d1',\n",
       "  '7bd60b72-2b34-43cb-89fc-04cba291b822',\n",
       "  '4728929f-1224-437a-9b52-605f88755f3c'],\n",
       " 'count': 5}"
      ]
     },
     "execution_count": 3,
     "metadata": {},
     "output_type": "execute_result"
    }
   ],
   "source": [
    "from langsmith import Client\n",
    "\n",
    "# Create dataset with random animal facts\n",
    "example_dataset = [\n",
    "    (\n",
    "        \"How fast can a cheetah run?\",\n",
    "        \"Cheetahs are the fastest land animals in the world. They can reach speeds of up to 70 miles per hour (112 kilometers per hour) in short bursts covering distances up to 1,600 feet. However, they can only maintain this incredible speed for about 20-30 seconds before they need to rest.\",\n",
    "        \"Cheetahs can run up to 70 mph (112 km/h) in short bursts for distances up to 1,600 feet. They are the fastest land animals but can only maintain top speed for 20-30 seconds.\"\n",
    "    ),\n",
    "    (\n",
    "        \"How many hearts does an octopus have?\",\n",
    "        \"Octopuses have three hearts! Two of these hearts pump blood to the gills, while the third pumps blood to the rest of the body. Interestingly, the main heart stops beating when they swim, which is why they prefer crawling rather than swimming as it's less tiring for them.\",\n",
    "        \"An octopus has three hearts - two pump blood to the gills and one pumps blood to the rest of the body. The main heart stops when swimming, making crawling less exhausting.\"\n",
    "    ),\n",
    "    (\n",
    "        \"How long do elephants sleep?\",\n",
    "        \"Elephants are among the animals that sleep the least in the animal kingdom. Wild elephants typically sleep only 2-4 hours per day, often in short naps while standing up. They can sleep lying down, but this usually happens for only a few hours during the night. Baby elephants need more sleep than adults.\",\n",
    "        \"Elephants sleep only 2-4 hours per day, often in short standing naps. They occasionally lie down for a few hours at night, making them one of the least-sleeping animals.\"\n",
    "    ),\n",
    "    (\n",
    "        \"Can penguins fly?\",\n",
    "        \"While penguins cannot fly in the air, they are exceptional swimmers and can be considered to 'fly' underwater. Their wings have evolved into flippers that allow them to reach speeds of up to 22 mph underwater. Emperor penguins can dive to depths of over 1,800 feet and hold their breath for up to 22 minutes.\",\n",
    "        \"Penguins cannot fly in air, but they 'fly' underwater using their wing-flippers to reach speeds of 22 mph. Emperor penguins can dive over 1,800 feet deep and hold their breath for 22 minutes.\"\n",
    "    ),\n",
    "    (\n",
    "        \"How long can a giraffe's tongue be?\",\n",
    "        \"A giraffe's tongue can be up to 20 inches (50 centimeters) long! This incredibly long tongue helps them reach leaves high up in acacia trees. The tongue is also dark blue or black in color, which scientists believe helps protect it from sunburn since giraffes spend so much time with their tongues extended while feeding.\",\n",
    "        \"A giraffe's tongue can reach up to 20 inches long and is dark blue or black in color. The length helps them reach high leaves, while the dark color protects against sunburn.\"\n",
    "    ),\n",
    "]\n",
    "\n",
    "client = Client()\n",
    "dataset_name = \"Amazing Animal Facts\"\n",
    "\n",
    "# Create dataset\n",
    "dataset = client.create_dataset(\n",
    "    dataset_name=dataset_name, description=\"Fascinating questions and facts about animals from around the world\"\n",
    ")\n",
    "\n",
    "# Prepare inputs and outputs\n",
    "inputs = [{\"question\": q, \"context\": c} for q, c, _ in example_dataset]\n",
    "outputs = [{\"output\": o} for _, _, o in example_dataset]\n",
    "\n",
    "# Create examples in the dataset\n",
    "client.create_examples(\n",
    "    inputs=inputs,\n",
    "    outputs=outputs,\n",
    "    dataset_id=dataset.id,\n",
    ")"
   ]
  },
  {
   "cell_type": "markdown",
   "metadata": {},
   "source": [
    "### Update our Application to use Prompt Hub"
   ]
  },
  {
   "cell_type": "markdown",
   "metadata": {},
   "source": [
    "We're going to pretty much define the same RAG application as before - with one crucial improvement.\n",
    "\n",
    "Instead of pulling our `RAG_PROMPT` from utils.py, we're going to connect to the Prompt Hub in LangSmith.\n",
    "\n",
    "Let's add the code snippet that will pull down our prompt that we just iterated on!"
   ]
  },
  {
   "cell_type": "code",
   "execution_count": 4,
   "metadata": {},
   "outputs": [],
   "source": [
    "from langsmith import Client\n",
    "import os\n",
    "\n",
    "client = Client(api_key=os.environ[\"LANGSMITH_API_KEY\"])\n",
    "prompt = client.pull_prompt(\"animal-fun-fax:702d1c71\", include_model=True)"
   ]
  },
  {
   "cell_type": "code",
   "execution_count": 8,
   "metadata": {},
   "outputs": [],
   "source": [
    "import os\n",
    "import tempfile\n",
    "from langchain.text_splitter import RecursiveCharacterTextSplitter\n",
    "from langchain_community.document_loaders.sitemap import SitemapLoader\n",
    "from langchain_community.vectorstores import SKLearnVectorStore\n",
    "from langchain_openai import OpenAIEmbeddings\n",
    "from langsmith import traceable\n",
    "from langsmith.client import convert_prompt_to_openai_format\n",
    "from openai import OpenAI\n",
    "from typing import List\n",
    "import nest_asyncio\n",
    "\n",
    "MODEL_NAME = \"gpt-4o-mini\"\n",
    "MODEL_PROVIDER = \"openai\"\n",
    "APP_VERSION = 1.0\n",
    "\n",
    "# TODO: Remove this hard-coded prompt and replace it with Prompt Hub\n",
    "# RAG_SYSTEM_PROMPT = \"\"\"You are an enthusiastic animal facts expert! \n",
    "# Use the following pieces of retrieved context to answer questions about animals and wildlife. \n",
    "# If you don't know the answer, just say that you don't know. \n",
    "# Provide fascinating and accurate information about animals in a fun, engaging way.\n",
    "# Keep your answers concise but informative, using three sentences maximum.\n",
    "# \"\"\"\n",
    "\n",
    "openai_client = OpenAI()\n",
    "\n",
    "def get_vector_db_retriever():\n",
    "    persist_path = os.path.join(tempfile.gettempdir(), \"union.parquet\")\n",
    "    embd = OpenAIEmbeddings()\n",
    "\n",
    "    # If vector store exists, then load it\n",
    "    if os.path.exists(persist_path):\n",
    "        vectorstore = SKLearnVectorStore(\n",
    "            embedding=embd,\n",
    "            persist_path=persist_path,\n",
    "            serializer=\"parquet\"\n",
    "        )\n",
    "        return vectorstore.as_retriever(lambda_mult=0)\n",
    "\n",
    "    # Otherwise, index LangSmith documents and create new vector store\n",
    "    ls_docs_sitemap_loader = SitemapLoader(web_path=\"https://docs.smith.langchain.com/sitemap.xml\", continue_on_failure=True)\n",
    "    ls_docs = ls_docs_sitemap_loader.load()\n",
    "\n",
    "    text_splitter = RecursiveCharacterTextSplitter.from_tiktoken_encoder(\n",
    "        chunk_size=500, chunk_overlap=0\n",
    "    )\n",
    "    doc_splits = text_splitter.split_documents(ls_docs)\n",
    "\n",
    "    vectorstore = SKLearnVectorStore.from_documents(\n",
    "        documents=doc_splits,\n",
    "        embedding=embd,\n",
    "        persist_path=persist_path,\n",
    "        serializer=\"parquet\"\n",
    "    )\n",
    "    vectorstore.persist()\n",
    "    return vectorstore.as_retriever(lambda_mult=0)\n",
    "\n",
    "nest_asyncio.apply()\n",
    "retriever = get_vector_db_retriever()\n",
    "\n",
    "\"\"\"\n",
    "retrieve_documents\n",
    "- Returns documents fetched from a vectorstore based on the user's animal question\n",
    "\"\"\"\n",
    "@traceable(run_type=\"chain\")\n",
    "def retrieve_documents(question: str):\n",
    "    return retriever.invoke(question)\n",
    "\n",
    "\"\"\"\n",
    "generate_response\n",
    "- Calls `call_openai` to generate a model response about animals after formatting inputs\n",
    "\"\"\"\n",
    "@traceable(run_type=\"chain\")\n",
    "def generate_response(question: str, documents):\n",
    "    formatted_docs = \"\\n\\n\".join(doc.page_content for doc in documents)\n",
    "    \n",
    "    # Method 1: Use the prompt directly since it's already bound to a model\n",
    "    try:\n",
    "        result = prompt.invoke({\"context\": formatted_docs, \"question\": question})\n",
    "        return result\n",
    "    except:\n",
    "        # Method 2: Manual message formatting if prompt hub isn't working\n",
    "        # Get the raw prompt template (without the model binding)\n",
    "        raw_prompt_template = prompt.first\n",
    "        raw_messages = raw_prompt_template.format_messages(context=formatted_docs, question=question)\n",
    "        \n",
    "        # Convert messages with proper role mapping\n",
    "        def convert_role(msg_type):\n",
    "            role_mapping = {\n",
    "                'system': 'system',\n",
    "                'human': 'user',\n",
    "                'ai': 'assistant',\n",
    "                'assistant': 'assistant'\n",
    "            }\n",
    "            return role_mapping.get(msg_type, msg_type)\n",
    "        \n",
    "        messages = [{\"role\": convert_role(msg.type), \"content\": msg.content} for msg in raw_messages]\n",
    "        return call_openai(messages)\n",
    "\n",
    "\"\"\"\n",
    "call_openai\n",
    "- Returns the chat completion output from OpenAI for animal facts\n",
    "\"\"\"\n",
    "@traceable(\n",
    "    run_type=\"llm\",\n",
    "    metadata={\n",
    "        \"ls_provider\": MODEL_PROVIDER,\n",
    "        \"ls_model_name\": MODEL_NAME\n",
    "    }\n",
    ")\n",
    "def call_openai(messages: List[dict]) -> str:\n",
    "    return openai_client.chat.completions.create(\n",
    "        model=MODEL_NAME,\n",
    "        messages=messages,\n",
    "    )\n",
    "\n",
    "\"\"\"\n",
    "langsmith_rag\n",
    "- Calls `retrieve_documents` to fetch animal-related documents\n",
    "- Calls `generate_response` to generate a response about animals based on the fetched documents\n",
    "- Returns the model response with fascinating animal facts\n",
    "\"\"\"\n",
    "@traceable(run_type=\"chain\")\n",
    "def langsmith_rag(question: str):\n",
    "    documents = retrieve_documents(question)\n",
    "    response = generate_response(question, documents)\n",
    "    \n",
    "    # Handle different response types\n",
    "    if hasattr(response, 'choices'):\n",
    "        return response.choices[0].message.content\n",
    "    else:\n",
    "        return str(response)"
   ]
  },
  {
   "cell_type": "code",
   "execution_count": 9,
   "metadata": {},
   "outputs": [
    {
     "data": {
      "text/plain": [
       "\"content='An octopus has three hearts. Two pump blood to the gills, while the third pumps it to the rest of the body.' additional_kwargs={'refusal': None} response_metadata={'token_usage': {'completion_tokens': 27, 'prompt_tokens': 336, 'total_tokens': 363, 'completion_tokens_details': {'accepted_prediction_tokens': 0, 'audio_tokens': 0, 'reasoning_tokens': 0, 'rejected_prediction_tokens': 0}, 'prompt_tokens_details': {'audio_tokens': 0, 'cached_tokens': 0}}, 'model_name': 'gpt-4o-mini-2024-07-18', 'system_fingerprint': 'fp_560af6e559', 'id': 'chatcmpl-CQFURLzPe2di2p6MAVEs6QEcTlmPz', 'service_tier': 'default', 'finish_reason': 'stop', 'logprobs': None} id='run--775651a7-e38a-477a-99e4-5f5e7745240d-0' usage_metadata={'input_tokens': 336, 'output_tokens': 27, 'total_tokens': 363, 'input_token_details': {'audio': 0, 'cache_read': 0}, 'output_token_details': {'audio': 0, 'reasoning': 0}}\""
      ]
     },
     "execution_count": 9,
     "metadata": {},
     "output_type": "execute_result"
    }
   ],
   "source": [
    "question = \"How many hearts does an octopus have?\"\n",
    "langsmith_rag(question)"
   ]
  }
 ],
 "metadata": {
  "kernelspec": {
   "display_name": "Python 3",
   "language": "python",
   "name": "python3"
  },
  "language_info": {
   "codemirror_mode": {
    "name": "ipython",
    "version": 3
   },
   "file_extension": ".py",
   "mimetype": "text/x-python",
   "name": "python",
   "nbconvert_exporter": "python",
   "pygments_lexer": "ipython3",
   "version": "3.12.6"
  }
 },
 "nbformat": 4,
 "nbformat_minor": 4
}
