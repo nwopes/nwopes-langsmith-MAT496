{
 "cells": [
  {
   "cell_type": "markdown",
   "metadata": {},
   "source": [
    "# Run Experiments in Playground"
   ]
  },
  {
   "cell_type": "markdown",
   "metadata": {},
   "source": [
    "### Setup"
   ]
  },
  {
   "cell_type": "code",
   "execution_count": null,
   "metadata": {},
   "outputs": [],
   "source": [
    "# You can set them inline\n",
    "import os\n",
    "os.environ[\"LANGSMITH_API_KEY\"] = \"\""
   ]
  },
  {
   "cell_type": "code",
   "execution_count": 1,
   "metadata": {},
   "outputs": [
    {
     "data": {
      "text/plain": [
       "True"
      ]
     },
     "execution_count": 1,
     "metadata": {},
     "output_type": "execute_result"
    }
   ],
   "source": [
    "# Or you can use a .env file\n",
    "from dotenv import load_dotenv\n",
    "load_dotenv(dotenv_path=\"../../.env\", override=True)"
   ]
  },
  {
   "cell_type": "markdown",
   "metadata": {},
   "source": [
    "### Create a Dataset"
   ]
  },
  {
   "cell_type": "markdown",
   "metadata": {},
   "source": [
    "Let's create a Batman-themed dataset to run experiments over for a prompt"
   ]
  },
  {
   "cell_type": "code",
   "execution_count": 2,
   "metadata": {},
   "outputs": [
    {
     "data": {
      "text/plain": [
       "{'example_ids': ['7a01a67c-6710-483a-bc2d-13e712c33698',\n",
       "  'c4ac8938-f461-4f93-a015-23ba5d71007e',\n",
       "  '7bf63270-8f55-4b56-b817-52f972bd879f',\n",
       "  'd767482c-4fae-4ca1-b56d-d074210e6970',\n",
       "  '3366a5e0-b8f5-45be-aee1-b6dfb5ec8202'],\n",
       " 'count': 5}"
      ]
     },
     "execution_count": 2,
     "metadata": {},
     "output_type": "execute_result"
    }
   ],
   "source": [
    "from langsmith import Client\n",
    "\n",
    "# Batman and Gotham City themed examples\n",
    "example_inputs = [\n",
    "(\"Who is Batman's secret identity?\", \"Batman's secret identity is Bruce Wayne\"),\n",
    "(\"Where is Batman's headquarters located?\", \"Batman's headquarters is in the Batcave beneath Wayne Manor\"),\n",
    "(\"What is the name of Gotham City's police commissioner?\", \"Gotham City's police commissioner is James Gordon\"),\n",
    "(\"What is the name of Batman's butler?\", \"Batman's butler is Alfred Pennyworth\"),\n",
    "(\"Who is Batman's main nemesis?\", \"Batman's main nemesis is the Joker\"),\n",
    "]\n",
    "\n",
    "client = Client()\n",
    "dataset_name = \"Batman and Gotham City Questions\"\n",
    "\n",
    "dataset = client.create_dataset(\n",
    "  dataset_name=dataset_name, description=\"Questions about Batman and Gotham City\",\n",
    ")\n",
    "\n",
    "inputs = [{\"question\": input_prompt} for input_prompt, _ in example_inputs]\n",
    "outputs = [{\"output\": output_answer} for _, output_answer in example_inputs]\n",
    "\n",
    "client.create_examples(\n",
    "  inputs=inputs,\n",
    "  outputs=outputs,\n",
    "  dataset_id=dataset.id,\n",
    ")"
   ]
  }
 ],
 "metadata": {
  "kernelspec": {
   "display_name": "Python 3",
   "language": "python",
   "name": "python3"
  },
  "language_info": {
   "codemirror_mode": {
    "name": "ipython",
    "version": 3
   },
   "file_extension": ".py",
   "mimetype": "text/x-python",
   "name": "python",
   "nbconvert_exporter": "python",
   "pygments_lexer": "ipython3",
   "version": "3.12.6"
  }
 },
 "nbformat": 4,
 "nbformat_minor": 4
}
