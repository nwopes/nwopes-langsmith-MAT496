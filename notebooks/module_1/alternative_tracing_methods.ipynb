{
 "cells": [
  {
   "cell_type": "markdown",
   "metadata": {},
   "source": [
    "# Alternative Tracing Methods"
   ]
  },
  {
   "cell_type": "markdown",
   "metadata": {},
   "source": [
    "![AWTT](../../images/alternative_ways_to_trace_0.png)"
   ]
  },
  {
   "cell_type": "markdown",
   "metadata": {},
   "source": [
    "So far in this module, we've taken a look at the traceable decorator, and how we can use it to set up tracing.\n",
    "\n",
    "In this lesson, we're going to look at alternative ways in which we can set up tracing, and when you should think about using these different approaches."
   ]
  },
  {
   "cell_type": "markdown",
   "metadata": {},
   "source": [
    "## LangChain and LangGraph"
   ]
  },
  {
   "cell_type": "markdown",
   "metadata": {},
   "source": [
    "If we are using LangChain or LangGraph, all we need to do to set up tracing is to set a few environment variables"
   ]
  },
  {
   "cell_type": "markdown",
   "metadata": {},
   "source": [
    "![AWTT](../../images/alternative_ways_to_trace_1.png)"
   ]
  },
  {
   "cell_type": "code",
   "execution_count": null,
   "metadata": {},
   "outputs": [],
   "source": [
    "# You can set them inline\n",
    "import os\n",
    "os.environ[\"OPENAI_API_KEY\"] = \"\"\n",
    "os.environ[\"LANGSMITH_API_KEY\"] = \"\"\n",
    "os.environ[\"LANGSMITH_TRACING\"] = \"true\"\n",
    "os.environ[\"LANGSMITH_PROJECT\"] = \"langsmith-academy\"  # If you don't set this, traces will go to the Default project"
   ]
  },
  {
   "cell_type": "code",
   "execution_count": 3,
   "metadata": {},
   "outputs": [
    {
     "data": {
      "text/plain": [
       "True"
      ]
     },
     "execution_count": 3,
     "metadata": {},
     "output_type": "execute_result"
    }
   ],
   "source": [
    "# Or you can use a .env file\n",
    "from dotenv import load_dotenv\n",
    "load_dotenv(dotenv_path=\"../../.env\", override=True)"
   ]
  },
  {
   "cell_type": "markdown",
   "metadata": {},
   "source": [
    "Don't worry too much about our graph implementation here, you can learn more about LangGraph through our LangGraph Academy course!"
   ]
  },
  {
   "cell_type": "code",
   "execution_count": 4,
   "metadata": {},
   "outputs": [
    {
     "data": {
      "image/png": "[encoded data removed]",
      "text/plain": [
       "<IPython.core.display.Image object>"
      ]
     },
     "metadata": {},
     "output_type": "display_data"
    }
   ],
   "source": [
    "import nest_asyncio\n",
    "import operator\n",
    "from langchain.schema import Document\n",
    "from langchain_core.messages import HumanMessage, AnyMessage, get_buffer_string\n",
    "from langchain_openai import ChatOpenAI\n",
    "from langgraph.graph import StateGraph, START, END\n",
    "from IPython.display import Image, display\n",
    "from typing import List\n",
    "from typing_extensions import TypedDict, Annotated\n",
    "from utils import get_vector_db_retriever, RAG_PROMPT\n",
    "\n",
    "nest_asyncio.apply()\n",
    "\n",
    "retriever = get_vector_db_retriever()\n",
    "llm = ChatOpenAI(model_name=\"gpt-4o-mini\", temperature=0)\n",
    "\n",
    "# Define Graph state\n",
    "class GraphState(TypedDict):\n",
    "    question: str\n",
    "    messages: Annotated[List[AnyMessage], operator.add]\n",
    "    documents: List[Document]\n",
    "\n",
    "# Define Nodes\n",
    "def retrieve_documents(state: GraphState):\n",
    "    messages = state.get(\"messages\", [])\n",
    "    question = state[\"question\"]\n",
    "    documents = retriever.invoke(f\"{get_buffer_string(messages)} {question}\")\n",
    "    return {\"documents\": documents}\n",
    "\n",
    "def generate_response(state: GraphState):\n",
    "    question = state[\"question\"]\n",
    "    messages = state[\"messages\"]\n",
    "    documents = state[\"documents\"]\n",
    "    formatted_docs = \"\\n\\n\".join(doc.page_content for doc in documents)\n",
    "    \n",
    "    rag_prompt_formatted = RAG_PROMPT.format(context=formatted_docs, conversation=messages, question=question)\n",
    "    generation = llm.invoke([HumanMessage(content=rag_prompt_formatted)])\n",
    "    return {\"documents\": documents, \"messages\": [HumanMessage(question), generation]}\n",
    "\n",
    "# Define Graph\n",
    "graph_builder = StateGraph(GraphState)\n",
    "graph_builder.add_node(\"retrieve_documents\", retrieve_documents)\n",
    "graph_builder.add_node(\"generate_response\", generate_response)\n",
    "graph_builder.add_edge(START, \"retrieve_documents\")\n",
    "graph_builder.add_edge(\"retrieve_documents\", \"generate_response\")\n",
    "graph_builder.add_edge(\"generate_response\", END)\n",
    "\n",
    "simple_rag_graph = graph_builder.compile()\n",
    "display(Image(simple_rag_graph.get_graph().draw_mermaid_png()))"
   ]
  },
  {
   "cell_type": "markdown",
   "metadata": {},
   "source": [
    "We're setting up a simple graph in LangGraph. If you want to learn more about LangGraph, I would highly recommend taking a look at our LangGraph Academy course.\n",
    "\n",
    "You can also pass in metadata or other fields through an optional config"
   ]
  },
  {
   "cell_type": "code",
   "execution_count": 5,
   "metadata": {},
   "outputs": [
    {
     "data": {
      "text/plain": [
       "{'question': 'What are the different types of jutsu that Naruto can perform?',\n",
       " 'messages': [HumanMessage(content='What are the different types of jutsu that Naruto can perform?', additional_kwargs={}, response_metadata={}),\n",
       "  AIMessage(content=\"I don't know.\", additional_kwargs={'refusal': None}, response_metadata={'token_usage': {'completion_tokens': 4, 'prompt_tokens': 489, 'total_tokens': 493, 'completion_tokens_details': {'accepted_prediction_tokens': 0, 'audio_tokens': 0, 'reasoning_tokens': 0, 'rejected_prediction_tokens': 0}, 'prompt_tokens_details': {'audio_tokens': 0, 'cached_tokens': 0}}, 'model_name': 'gpt-4o-mini-2024-07-18', 'system_fingerprint': 'fp_560af6e559', 'id': 'chatcmpl-CMwVgpnz6YFGNq3REbHk8J6Oid3fm', 'service_tier': 'default', 'finish_reason': 'stop', 'logprobs': None}, id='run--6f3f62b2-c19d-4f56-b258-c95a23b47a72-0', usage_metadata={'input_tokens': 489, 'output_tokens': 4, 'total_tokens': 493, 'input_token_details': {'audio': 0, 'cache_read': 0}, 'output_token_details': {'audio': 0, 'reasoning': 0}})],\n",
       " 'documents': [Document(metadata={'id': '0f142663-e21b-4a57-a2d6-6a2f7865ffec', 'changefreq': 'weekly', 'loc': 'https://docs.smith.langchain.com/self_hosting/scripts/delete_a_workspace', 'priority': '0.5', 'source': 'https://docs.smith.langchain.com/self_hosting/scripts/delete_a_workspace'}, page_content='Ensure you have the following tools/items ready.'),\n",
       "  Document(metadata={'id': '75e0dfa6-9caf-4205-8504-91e4752bd90c', 'changefreq': 'weekly', 'loc': 'https://docs.smith.langchain.com/self_hosting/scripts', 'priority': '0.5', 'source': 'https://docs.smith.langchain.com/self_hosting/scripts'}, page_content='Ensure you have the following tools/items ready.'),\n",
       "  Document(metadata={'id': '1b027a3d-9eab-4147-99d9-61a7e728edd2', 'changefreq': 'weekly', 'loc': 'https://docs.smith.langchain.com/observability/how_to_guides/filter_traces_in_application', 'priority': '0.5', 'source': 'https://docs.smith.langchain.com/observability/how_to_guides/filter_traces_in_application'}, page_content='Tracing projects can contain a significant amount of data. Filters are used for effectively navigating and analyzing this data, allowing you to:'),\n",
       "  Document(metadata={'id': '9bbe0c43-aa3e-42c9-a9f6-50a79c861081', 'changefreq': 'weekly', 'loc': 'https://docs.smith.langchain.com/evaluation/tutorials/agents', 'priority': '0.5', 'source': 'https://docs.smith.langchain.com/evaluation/tutorials/agents'}, page_content='Evaluate a complex agent - Docs by LangChainSkip to main contentOur new LangChain Academy course on Deep Agents is now live! Enroll for free.Docs by LangChain home pagePythonSearch...⌘KLangSmithPlatform for LLM observability and evaluationOverviewConceptsEvaluation approachesDatasetsCreate a datasetManage datasetsSet up evaluationsRun an evaluationEvaluation typesFrameworks & integrationsEvaluation techniquesImprove evaluatorsTutorialsEvaluate a chatbotEvaluate a RAG applicationTest a ReAct agent with Pytest/Vitest and LangSmithEvaluate a complex agentRun backtests on a new version of an agentAnalyze experiment resultsAnalyze an experimentCompare experiment resultsFilter experiments in the UIFetch performance metrics for an experimentUpload experiments run outside of LangSmithAnnotation & human feedbackUse annotation queuesSet up feedback criteriaAnnotate traces and runs inlineAudit evaluator scoresCommon data typesExample data formatDataset prebuilt JSON schema typesDataset transformationsOur new LangChain Academy course on Deep Agents is now live! Enroll for free.Docs by LangChain home pagePythonSearch...⌘KGitHubForumForumSearch...NavigationTutorialsEvaluate a complex agentGet startedObservabilityEvaluationPrompt engineeringSelf-hostingAdministrationGet startedObservabilityEvaluationPrompt engineeringSelf-hostingAdministrationGitHubForumOn this pageSetupConfigure the environmentDownload the databaseDefine the customer support agentRefund agentLookup agentParent agentTry it outEvaluationsFinal response evaluatorTrajectory evaluatorSingle step evaluatorsReference codeSet up evaluationsTutorialsEvaluate a complex agentCopy pageCopy pageAgent evaluation | Evaluators | LLM-as-judge evaluators\\nIn this tutorial, we’ll build a customer support bot that helps users navigate a digital music store. Then, we’ll go through the three most effective types of evaluations to run on chat bots:')]}"
      ]
     },
     "execution_count": 5,
     "metadata": {},
     "output_type": "execute_result"
    }
   ],
   "source": [
    "question = \"What are the different types of jutsu that Naruto can perform?\"\n",
    "simple_rag_graph.invoke({\"question\": question}, config={\"metadata\": {\"anime\": \"naruto\", \"character_focus\": \"uzumaki_naruto\"}})"
   ]
  },
  {
   "cell_type": "markdown",
   "metadata": {},
   "source": [
    "##### Let's take a look in LangSmith!"
   ]
  },
  {
   "cell_type": "markdown",
   "metadata": {},
   "source": [
    "## Tracing Context Manager"
   ]
  },
  {
   "cell_type": "markdown",
   "metadata": {},
   "source": [
    "In Python, you can use the trace context manager to log traces to LangSmith. This is useful in situations where:\n",
    "\n",
    "You want to log traces for a specific block of code.\n",
    "You want control over the inputs, outputs, and other attributes of the trace.\n",
    "It is not feasible to use a decorator or wrapper.\n",
    "Any or all of the above.\n",
    "The context manager integrates seamlessly with the traceable decorator and wrap_openai wrapper, so you can use them together in the same application.\n",
    "\n",
    "You still need to set your `LANGSMITH_API_KEY` and `LANGSMITH_TRACING`"
   ]
  },
  {
   "cell_type": "markdown",
   "metadata": {},
   "source": [
    "![AWTT](../../images/alternative_ways_to_trace_2.png)"
   ]
  },
  {
   "cell_type": "code",
   "execution_count": 6,
   "metadata": {},
   "outputs": [],
   "source": [
    "from langsmith import traceable, trace\n",
    "from openai import OpenAI\n",
    "from typing import List\n",
    "import nest_asyncio\n",
    "from utils import get_vector_db_retriever\n",
    "\n",
    "MODEL_PROVIDER = \"openai\"\n",
    "MODEL_NAME = \"gpt-4o-mini\"\n",
    "APP_VERSION = 2.0  # Updated for Naruto-themed implementation\n",
    "NARUTO_SYSTEM_PROMPT = \"\"\"You are a knowledgeable ninja assistant from the Hidden Leaf Village. \n",
    "Use the following pieces of retrieved context to answer questions about the ninja world. \n",
    "If you don't know the answer, just say \"That's beyond my ninja knowledge, dattebayo!\" \n",
    "Use three sentences maximum and keep the answer concise like a true shinobi.\n",
    "\"\"\"\n",
    "\n",
    "openai_client = OpenAI()\n",
    "nest_asyncio.apply()\n",
    "retriever = get_vector_db_retriever()\n",
    "\n",
    "\"\"\"\n",
    "retrieve_ninja_intel\n",
    "- Returns documents fetched from the ninja archives based on the user's question\n",
    "\"\"\"\n",
    "@traceable(metadata={\"village\": \"hidden_leaf\", \"rank\": \"chunin\"})\n",
    "def retrieve_ninja_intel(question: str):\n",
    "    documents = retriever.invoke(question)\n",
    "    return documents\n",
    "\n",
    "\"\"\"\n",
    "generate_ninja_response\n",
    "- Calls `call_hokage_council` to generate a response after formatting ninja intel\n",
    "\"\"\"\n",
    "# TODO: Remove traceable, and use with trace()\n",
    "@traceable(metadata={\"jutsu_type\": \"information_gathering\"})\n",
    "def generate_ninja_response(question: str, documents):\n",
    "    # NOTE: Our documents came in as a list of objects, but we just want to log a string\n",
    "    formatted_docs = \"\\n\\n\".join(doc.page_content for doc in documents)\n",
    "\n",
    "    # TODO: Use with trace()\n",
    "    # with trace(\n",
    "    #     name=\"Generate Ninja Response\",\n",
    "    #     run_type=\"chain\", \n",
    "    #     inputs={\"question\": question, \"formatted_docs\": formatted_docs},\n",
    "    #     metadata={\"village\": \"hidden_leaf\", \"ninja_technique\": \"intelligence_analysis\"},\n",
    "    # ) as ls_trace:\n",
    "    messages = [\n",
    "        {\n",
    "            \"role\": \"system\",\n",
    "            \"content\": NARUTO_SYSTEM_PROMPT\n",
    "        },\n",
    "        {\n",
    "            \"role\": \"user\",\n",
    "            \"content\": f\"Ninja Intel: {formatted_docs} \\n\\n Shinobi Question: {question}\"\n",
    "        }\n",
    "    ]\n",
    "    response = call_hokage_council(messages)\n",
    "    # TODO: End your trace and write outputs to LangSmith\n",
    "    # ls_trace.end(outputs={\"ninja_response\": response})\n",
    "    return response\n",
    "\n",
    "\"\"\"\n",
    "call_hokage_council\n",
    "- Returns the wisdom from the Hokage's council (OpenAI chat completion)\n",
    "\"\"\"\n",
    "@traceable(metadata={\"council\": \"hokage\", \"village\": \"konoha\"})\n",
    "def call_hokage_council(\n",
    "    messages: List[dict], model: str = MODEL_NAME, temperature: float = 0.1  # Slightly higher for ninja creativity\n",
    ") -> str:\n",
    "    response = openai_client.chat.completions.create(\n",
    "        model=model,\n",
    "        messages=messages,\n",
    "        temperature=temperature,\n",
    "    )\n",
    "    return response\n",
    "\n",
    "\"\"\"\n",
    "ninja_knowledge_system\n",
    "- Calls `retrieve_ninja_intel` to fetch documents from ninja archives\n",
    "- Calls `generate_ninja_response` to generate a response based on the fetched intel\n",
    "- Returns the ninja wisdom\n",
    "\"\"\"\n",
    "@traceable(metadata={\"system\": \"ninja_knowledge\", \"creator\": \"akshat_ninja\"})\n",
    "def ninja_knowledge_system(question: str):\n",
    "    documents = retrieve_ninja_intel(question)\n",
    "    response = generate_ninja_response(question, documents)\n",
    "    return response.choices[0].message.content"
   ]
  },
  {
   "cell_type": "code",
   "execution_count": 7,
   "metadata": {},
   "outputs": [
    {
     "name": "stdout",
     "output_type": "stream",
     "text": [
      "The Rasengan is a spinning sphere of chakra created by the user, requiring precise chakra control and is known for its destructive power. In contrast, the Chidori is a lightning-based technique that channels electrical chakra into the user's hand, allowing for high-speed thrust attacks. Both techniques are signature moves of Naruto and Sasuke, respectively, showcasing their unique styles and abilities.\n"
     ]
    }
   ],
   "source": [
    "question = \"What is the difference between the Rasengan and the Chidori techniques?\"\n",
    "ai_answer = ninja_knowledge_system(question)\n",
    "print(ai_answer)"
   ]
  },
  {
   "cell_type": "markdown",
   "metadata": {},
   "source": [
    "## wrap_openai"
   ]
  },
  {
   "cell_type": "markdown",
   "metadata": {},
   "source": [
    "The wrap_openai/wrapOpenAI methods in Python/TypeScript allow you to wrap your OpenAI client in order to automatically log traces -- no decorator or function wrapping required! The wrapper works seamlessly with the @traceable decorator or traceable function and you can use both in the same application.\n",
    "\n",
    "You still need to set your `LANGSMITH_API_KEY` and `LANGSMITH_TRACING`"
   ]
  },
  {
   "cell_type": "markdown",
   "metadata": {},
   "source": [
    "![AWTT](../../images/alternative_ways_to_trace_3.png)"
   ]
  },
  {
   "cell_type": "code",
   "execution_count": 11,
   "metadata": {},
   "outputs": [],
   "source": [
    "# TODO: Import wrap_openai\n",
    "from langsmith.wrappers import wrap_openai\n",
    "import openai\n",
    "from typing import List\n",
    "import nest_asyncio\n",
    "from utils import get_vector_db_retriever\n",
    "\n",
    "MODEL_PROVIDER = \"openai\"\n",
    "MODEL_NAME = \"gpt-4o-mini\"\n",
    "APP_VERSION = 2.0\n",
    "NARUTO_SAGE_PROMPT = \"\"\"You are a wise sage from Mount Myoboku with vast knowledge of the ninja world. \n",
    "Use the following pieces of retrieved context to answer questions about jutsu, chakra, and ninja techniques. \n",
    "If you don't know the answer, just say \"Even the great toads don't know everything, young ninja.\" \n",
    "Use three sentences maximum and keep the answer concise like a true sage.\n",
    "\"\"\"\n",
    "\n",
    "# TODO: Wrap the OpenAI Client\n",
    "openai_client = wrap_openai(openai.Client())\n",
    "\n",
    "nest_asyncio.apply()\n",
    "retriever = get_vector_db_retriever()\n",
    "\n",
    "@traceable(run_type=\"chain\", metadata={\"technique\": \"sage_retrieval\", \"location\": \"mount_myoboku\"})\n",
    "def retrieve_sage_knowledge(question: str):\n",
    "    return retriever.invoke(question)\n",
    "\n",
    "@traceable(run_type=\"chain\", metadata={\"sage_mode\": \"active\", \"wisdom_level\": \"elder\"})\n",
    "def generate_sage_wisdom(question: str, documents):\n",
    "    formatted_docs = \"\\n\\n\".join(doc.page_content for doc in documents)\n",
    "    messages = [\n",
    "        {\n",
    "            \"role\": \"system\",\n",
    "            \"content\": NARUTO_SAGE_PROMPT\n",
    "        },\n",
    "        {\n",
    "            \"role\": \"user\",\n",
    "            \"content\": f\"Ancient Knowledge: {formatted_docs} \\n\\n Young Ninja's Question: {question}\"\n",
    "        }\n",
    "    ]\n",
    "    # TODO: We don't need to use @traceable on a nested function call anymore,\n",
    "    # wrap_openai takes care of this for us\n",
    "    return call_great_toad_sage(messages)\n",
    "\n",
    "@traceable(metadata={\"sage\": \"great_toad_sage\", \"chakra\": \"natural_energy\"})\n",
    "def call_great_toad_sage(\n",
    "    messages: List[dict],\n",
    ") -> str:\n",
    "    return openai_client.chat.completions.create(\n",
    "        model=MODEL_NAME,\n",
    "        messages=messages,\n",
    "        temperature=0.15,  # Sage wisdom should be consistent yet slightly creative\n",
    "    )\n",
    "\n",
    "@traceable(run_type=\"chain\", metadata={\"system\": \"sage_wisdom\", \"mount\": \"myoboku\"})\n",
    "def sage_wisdom_system(question: str):\n",
    "    documents = retrieve_sage_knowledge(question)\n",
    "    response = generate_sage_wisdom(question, documents)\n",
    "    return response.choices[0].message.content"
   ]
  },
  {
   "cell_type": "code",
   "execution_count": 9,
   "metadata": {},
   "outputs": [
    {
     "name": "stdout",
     "output_type": "stream",
     "text": [
      "Sage Mode allows a ninja to tap into natural energy, significantly enhancing their physical abilities, sensory perception, and jutsu potency. This transformation grants them heightened reflexes and strength, as well as the ability to sense chakra from great distances. Additionally, it enables the user to perform powerful techniques that are otherwise unattainable in their normal state.\n"
     ]
    }
   ],
   "source": [
    "question = \"How does Sage Mode enhance a ninja's abilities?\"\n",
    "ai_answer = sage_wisdom_system(question)\n",
    "print(ai_answer)"
   ]
  },
  {
   "cell_type": "markdown",
   "metadata": {},
   "source": [
    "The wrapped OpenAI client accepts all the same langsmith_extra parameters as @traceable decorated functions"
   ]
  },
  {
   "cell_type": "code",
   "execution_count": 12,
   "metadata": {},
   "outputs": [
    {
     "data": {
      "text/plain": [
       "ChatCompletion(id='chatcmpl-CMwYVuUhHa7nduM8hWWtNav1Avgqp', choices=[Choice(finish_reason='stop', index=0, logprobs=None, message=ChatCompletionMessage(content='The Nine-Tailed Fox, often referred to as the \"Kitsune\" in Japanese folklore and the \"Kumiho\" in Korean folklore, is a mythical creature that possesses a variety of supernatural powers and abilities. Here are some of the powers commonly attributed to the Nine-Tailed Fox:\\n\\n1. **Shape-shifting**: The Nine-Tailed Fox can change its form, often transforming into a beautiful woman or other creatures to deceive or seduce humans.\\n\\n2. **Illusion Creation**: It can create powerful illusions, making people see or experience things that are not real, which it uses to mislead or trick people.\\n\\n3. **Immortality**: In many versions of the myth, the Nine-Tailed Fox possesses a form of immortality, living for thousands of years and gaining wisdom over time.\\n\\n4. **Enhanced Agility and Speed**: The creature is often depicted as being extremely agile and fast, allowing it to evade capture and engage in combat effectively.\\n\\n5. **Foxfire**: The Nine-Tailed Fox can produce a mystical fire known as \"foxfire,\" which can be used to harm enemies or create illusions.\\n\\n6. **Telepathy and Mind Reading**: It is sometimes described as having the ability to read minds or communicate telepathically with humans.\\n\\n7. **Healing and Regeneration**: The Nine-Tailed Fox can heal itself or others, making it a powerful being in both combat and helping those in need.\\n\\n8. **Control Over Nature**: In some stories, it has the ability to manipulate natural elements, such as wind and water, or influence the growth of plants.\\n\\n9. **Spiritual Guidance**: The Nine-Tailed Fox is often portrayed as a protector or guardian spirit, bringing fortune and guidance to those who earn its favor.\\n\\nThese powers can vary widely based on the specific cultural context and the particular story being told, with the Nine-Tailed Fox embodying both benevolent and malevolent traits in folklore.', refusal=None, role='assistant', annotations=[], audio=None, function_call=None, tool_calls=None))], created=1759584339, model='gpt-4o-mini-2024-07-18', object='chat.completion', service_tier='default', system_fingerprint='fp_560af6e559', usage=CompletionUsage(completion_tokens=401, prompt_tokens=17, total_tokens=418, completion_tokens_details=CompletionTokensDetails(accepted_prediction_tokens=0, audio_tokens=0, reasoning_tokens=0, rejected_prediction_tokens=0), prompt_tokens_details=PromptTokensDetails(audio_tokens=0, cached_tokens=0)))"
      ]
     },
     "execution_count": 12,
     "metadata": {},
     "output_type": "execute_result"
    }
   ],
   "source": [
    "messages = [\n",
    "    {\n",
    "        \"role\": \"user\",\n",
    "        \"content\": \"What are the Nine-Tailed Fox's powers?\"\n",
    "    }\n",
    "]\n",
    "\n",
    "openai_client.chat.completions.create(\n",
    "    model=MODEL_NAME,\n",
    "    messages=messages,\n",
    "    langsmith_extra={\"metadata\": {\"bijuu\": \"nine_tails\", \"chakra_type\": \"demonic\"}},\n",
    ")"
   ]
  },
  {
   "cell_type": "markdown",
   "metadata": {
    "jp-MarkdownHeadingCollapsed": true
   },
   "source": [
    "## [Advanced] RunTree"
   ]
  },
  {
   "cell_type": "markdown",
   "metadata": {},
   "source": [
    "Another, more explicit way to log traces to LangSmith is via the RunTree API. This API allows you more control over your tracing - you can manually create runs and children runs to assemble your trace. You still need to set your `LANGSMITH_API_KEY`, but `LANGSMITH_TRACING` is not necessary for this method."
   ]
  },
  {
   "cell_type": "markdown",
   "metadata": {},
   "source": [
    "![AWTT](../../images/alternative_ways_to_trace_4.png)"
   ]
  },
  {
   "cell_type": "code",
   "execution_count": null,
   "metadata": {},
   "outputs": [],
   "source": [
    "import os\n",
    "os.environ[\"OPENAI_API_KEY\"] = \"\"\n",
    "os.environ[\"LANGSMITH_API_KEY\"] = \"\"\n",
    "os.environ[\"LANGSMITH_PROJECT\"] = \"langsmith-academy\""
   ]
  },
  {
   "cell_type": "code",
   "execution_count": 13,
   "metadata": {},
   "outputs": [
    {
     "data": {
      "text/plain": [
       "True"
      ]
     },
     "execution_count": 13,
     "metadata": {},
     "output_type": "execute_result"
    }
   ],
   "source": [
    "from dotenv import load_dotenv\n",
    "# I have my env variables defined in a .env file\n",
    "load_dotenv(dotenv_path=\"../../.env\", override=True)"
   ]
  },
  {
   "cell_type": "markdown",
   "metadata": {},
   "source": [
    "Let's go ahead and set `LANGSMITH_TRACING` to false, as we are using RunTree to manually create runs in this case."
   ]
  },
  {
   "cell_type": "code",
   "execution_count": 14,
   "metadata": {},
   "outputs": [
    {
     "data": {
      "text/plain": [
       "True"
      ]
     },
     "execution_count": 14,
     "metadata": {},
     "output_type": "execute_result"
    }
   ],
   "source": [
    "import os\n",
    "os.environ[\"LANGSMITH_TRACING\"] = \"false\"\n",
    "\n",
    "from langsmith import utils\n",
    "utils.tracing_is_enabled() # This should return false"
   ]
  },
  {
   "cell_type": "markdown",
   "metadata": {},
   "source": [
    "We have rewritten our RAG application, except this time we pass a RunTree argument through our function calls, and create child runs at each layer. This gives our RunTree the same hierarchy that we were automatically able to establish with @traceable"
   ]
  },
  {
   "cell_type": "code",
   "execution_count": 18,
   "metadata": {},
   "outputs": [],
   "source": [
    "from langsmith import RunTree\n",
    "from openai import OpenAI\n",
    "from typing import List\n",
    "import nest_asyncio\n",
    "from utils import get_vector_db_retriever\n",
    "\n",
    "openai_client = OpenAI()\n",
    "nest_asyncio.apply()\n",
    "retriever = get_vector_db_retriever()\n",
    "\n",
    "def retrieve_shinobi_scrolls(parent_run: RunTree, question: str):\n",
    "    # Create a child run\n",
    "    child_run = parent_run.create_child(\n",
    "        name=\"Retrieve Shinobi Scrolls\",\n",
    "        run_type=\"retriever\",\n",
    "        inputs={\"question\": question}\n",
    "    )\n",
    "    # Set metadata after creation\n",
    "    child_run.extra = {\"scroll_type\": \"forbidden_jutsu\", \"village\": \"hidden_leaf\"}\n",
    "    documents = retriever.invoke(question)\n",
    "    # Post the output of our child run\n",
    "    child_run.end(outputs={\"scrolls\": documents})\n",
    "    child_run.post()\n",
    "    return documents\n",
    "\n",
    "def generate_hokage_wisdom(parent_run: RunTree, question: str, documents):\n",
    "    formatted_docs = \"\\n\\n\".join(doc.page_content for doc in documents)\n",
    "    hokage_system_prompt = \"\"\"You are the Seventh Hokage, Naruto Uzumaki, sharing your wisdom with fellow shinobi. \n",
    "    Use the following pieces of retrieved context to answer questions about the ninja way. \n",
    "    If you don't know the answer, just say \"I'm still learning too, dattebayo!\" \n",
    "    Use three sentences maximum and keep the answer encouraging like a true Hokage.\n",
    "    \"\"\"\n",
    "    # Create a child run\n",
    "    child_run = parent_run.create_child(\n",
    "        name=\"Generate Hokage Wisdom\",\n",
    "        run_type=\"chain\",\n",
    "        inputs={\"question\": question, \"documents\": documents}\n",
    "    )\n",
    "    # Set metadata after creation\n",
    "    child_run.extra = {\"hokage\": \"seventh\", \"technique\": \"will_of_fire\"}\n",
    "    messages = [\n",
    "        {\n",
    "            \"role\": \"system\",\n",
    "            \"content\": hokage_system_prompt\n",
    "        },\n",
    "        {\n",
    "            \"role\": \"user\",\n",
    "            \"content\": f\"Shinobi Knowledge: {formatted_docs} \\n\\n Fellow Ninja's Question: {question}\"\n",
    "        }\n",
    "    ]\n",
    "    openai_response = call_shadow_clone_jutsu(child_run, messages)\n",
    "    # Post the output of our child run\n",
    "    child_run.end(outputs={\"hokage_wisdom\": openai_response})\n",
    "    child_run.post()\n",
    "    return openai_response\n",
    "\n",
    "def call_shadow_clone_jutsu(\n",
    "    parent_run: RunTree, messages: List[dict], model: str = \"gpt-4o-mini\", temperature: float = 0.2\n",
    ") -> str:\n",
    "    # Create a child run\n",
    "    child_run = parent_run.create_child(\n",
    "        name=\"Shadow Clone Jutsu\",\n",
    "        run_type=\"llm\",\n",
    "        inputs={\"messages\": messages}\n",
    "    )\n",
    "    # Set metadata after creation\n",
    "    child_run.extra = {\"jutsu\": \"kage_bunshin\", \"chakra_cost\": \"medium\"}\n",
    "    openai_response = openai_client.chat.completions.create(\n",
    "        model=model,\n",
    "        messages=messages,\n",
    "        temperature=temperature,\n",
    "    )\n",
    "    # Post the output of our child run\n",
    "    child_run.end(outputs={\"clone_response\": openai_response})\n",
    "    child_run.post()\n",
    "    return openai_response\n",
    "\n",
    "def hokage_guidance_system(question: str):\n",
    "    # Create a root RunTree\n",
    "    root_run_tree = RunTree(\n",
    "        name=\"Hokage Guidance Pipeline\",\n",
    "        run_type=\"chain\",\n",
    "        inputs={\"question\": question}\n",
    "    )\n",
    "    # Set metadata after creation\n",
    "    root_run_tree.extra = {\"system\": \"hokage_office\", \"village\": \"konohagakure\"}\n",
    "\n",
    "    # Pass our RunTree into the nested function calls\n",
    "    documents = retrieve_shinobi_scrolls(root_run_tree, question)\n",
    "    response = generate_hokage_wisdom(root_run_tree, question, documents)\n",
    "    output = response.choices[0].message.content\n",
    "\n",
    "    # Post our final output\n",
    "    root_run_tree.end(outputs={\"hokage_guidance\": output})\n",
    "    root_run_tree.post()\n",
    "    return output"
   ]
  },
  {
   "cell_type": "code",
   "execution_count": 19,
   "metadata": {},
   "outputs": [
    {
     "name": "stdout",
     "output_type": "stream",
     "text": [
      "The Will of Fire represents the belief that love and bonds between people are the foundation of a strong village. It teaches us to protect and support one another, ensuring that the next generation can thrive. Embrace this spirit, and you'll always find strength in your connections, dattebayo!\n"
     ]
    }
   ],
   "source": [
    "question = \"What does it mean to follow the Will of Fire?\"\n",
    "ai_answer = hokage_guidance_system(question)\n",
    "print(ai_answer)"
   ]
  }
 ],
 "metadata": {
  "kernelspec": {
   "display_name": "Python 3",
   "language": "python",
   "name": "python3"
  },
  "language_info": {
   "codemirror_mode": {
    "name": "ipython",
    "version": 3
   },
   "file_extension": ".py",
   "mimetype": "text/x-python",
   "name": "python",
   "nbconvert_exporter": "python",
   "pygments_lexer": "ipython3",
   "version": "3.12.6"
  }
 },
 "nbformat": 4,
 "nbformat_minor": 4
}
