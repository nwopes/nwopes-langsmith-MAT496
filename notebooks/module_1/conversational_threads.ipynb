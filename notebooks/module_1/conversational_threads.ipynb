{
 "cells": [
  {
   "cell_type": "markdown",
   "metadata": {},
   "source": [
    "# Conversational Threads"
   ]
  },
  {
   "cell_type": "markdown",
   "metadata": {},
   "source": [
    "Many LLM applications have a chatbot-like interface in which the user and the LLM application engage in a multi-turn conversation. In order to track these conversations, you can use the Threads feature in LangSmith.\n",
    "\n",
    "This is relevant to our RAG application, which should maintain context from prior conversations with users."
   ]
  },
  {
   "cell_type": "markdown",
   "metadata": {},
   "source": [
    "### Setup"
   ]
  },
  {
   "cell_type": "code",
   "execution_count": null,
   "metadata": {},
   "outputs": [],
   "source": [
    "# You can set them inline\n",
    "import os\n",
    "os.environ[\"OPENAI_API_KEY\"] = \"\"\n",
    "os.environ[\"LANGSMITH_API_KEY\"] = \"\"\n",
    "os.environ[\"LANGSMITH_TRACING\"] = \"true\"\n",
    "os.environ[\"LANGSMITH_PROJECT\"] = \"langsmith-academy\"  # If you don't set this, traces will go to the Default project"
   ]
  },
  {
   "cell_type": "code",
   "execution_count": 4,
   "metadata": {},
   "outputs": [
    {
     "data": {
      "text/plain": [
       "True"
      ]
     },
     "execution_count": 4,
     "metadata": {},
     "output_type": "execute_result"
    }
   ],
   "source": [
    "# Or you can use a .env file\n",
    "from dotenv import load_dotenv\n",
    "load_dotenv(dotenv_path=\"../../.env\", override=True)"
   ]
  },
  {
   "cell_type": "markdown",
   "metadata": {},
   "source": [
    "### Group traces into threads\n"
   ]
  },
  {
   "cell_type": "markdown",
   "metadata": {},
   "source": [
    "A Thread is a sequence of traces representing a single conversation. Each response is represented as its own trace, but these traces are linked together by being part of the same thread.\n",
    "\n",
    "To associate traces together, you need to pass in a special metadata key where the value is the unique identifier for that thread.\n",
    "\n",
    "The key value is the unique identifier for that conversation. The key name should be one of:\n",
    "\n",
    "- session_id\n",
    "- thread_id\n",
    "- conversation_id.\n",
    "\n",
    "The value should be a UUID."
   ]
  },
  {
   "cell_type": "code",
   "execution_count": null,
   "metadata": {},
   "outputs": [
    {
     "name": "stdout",
     "output_type": "stream",
     "text": [
      "Starting programming learning session: eec26bc0-a356-486c-9cc7-9791fb6b84d1\n"
     ]
    }
   ],
   "source": [
    "import uuid\n",
    "# Create a unique session ID for this epic procrastination consultation \n",
    "meme_session_id = uuid.uuid4()\n",
    "print(f\"Starting the ultimate college life crisis session: {meme_session_id}\")"
   ]
  },
  {
   "cell_type": "code",
   "execution_count": null,
   "metadata": {},
   "outputs": [],
   "source": [
    "from langsmith import traceable\n",
    "from openai import OpenAI\n",
    "from typing import List\n",
    "import nest_asyncio\n",
    "from utils import get_vector_db_retriever\n",
    "\n",
    "openai_client = OpenAI()\n",
    "nest_asyncio.apply()\n",
    "retriever = get_vector_db_retriever()\n",
    "\n",
    "@traceable(run_type=\"chain\", metadata={\"component\": \"meme_knowledge_retrieval\", \"vibe\": \"chaotic_good\"})\n",
    "def retrieve_college_wisdom(question: str):\n",
    "    return retriever.invoke(question)\n",
    "\n",
    "@traceable(run_type=\"chain\", metadata={\"component\": \"meme_response_generation\", \"energy\": \"big_mood\"})\n",
    "def generate_meme_response(question: str, documents):\n",
    "    formatted_docs = \"\\n\\n\".join(doc.page_content for doc in documents)\n",
    "    meme_system_prompt = \"\"\"You are the ultimate college life advisor who speaks fluent meme and understands the pain of student life. \n",
    "    Use the following pieces of retrieved context to answer the student's existential crisis in the most relatable way possible. \n",
    "    If you don't know the answer, just say \"That's not it chief, but here's what I got...\" and suggest something helpful anyway. \n",
    "    Keep it real, keep it funny, and use internet slang. No cap! 🎓✨\n",
    "    \"\"\"\n",
    "    messages = [\n",
    "        {\n",
    "            \"role\": \"system\",\n",
    "            \"content\": meme_system_prompt\n",
    "        },\n",
    "        {\n",
    "            \"role\": \"user\",\n",
    "            \"content\": f\"The Forbidden Knowledge: {formatted_docs} \\n\\n Student's Life Crisis: {question}\"\n",
    "        }\n",
    "    ]\n",
    "    return call_meme_ai(messages)\n",
    "\n",
    "@traceable(run_type=\"llm\", metadata={\"model_purpose\": \"student_life_crisis_management\", \"mood\": \"eternally_tired\"})\n",
    "def call_meme_ai(\n",
    "    messages: List[dict], model: str = \"gpt-4o-mini\", temperature: float = 0.7  # Higher for maximum chaos energy\n",
    ") -> str:\n",
    "    return openai_client.chat.completions.create(\n",
    "        model=model,\n",
    "        messages=messages,\n",
    "        temperature=temperature,\n",
    "    )\n",
    "\n",
    "@traceable(run_type=\"chain\", metadata={\"system\": \"college_meme_advisor\", \"creator\": \"akshat_the_procrastinator\"})\n",
    "def college_meme_system(question: str):\n",
    "    documents = retrieve_college_wisdom(question)\n",
    "    response = generate_meme_response(question, documents)\n",
    "    return response.choices[0].message.content"
   ]
  },
  {
   "cell_type": "markdown",
   "metadata": {},
   "source": [
    "### Now let's simulate a typical college student's existential crisis conversation 💀"
   ]
  },
  {
   "cell_type": "code",
   "execution_count": null,
   "metadata": {},
   "outputs": [
    {
     "name": "stdout",
     "output_type": "stream",
     "text": [
      "Q1: What is the difference between a list and a tuple in Python?\n",
      "A1: Great question! In Python, both lists and tuples are used to store collections of items, but they have some key differences.\n",
      "\n",
      "1. **Mutability**:\n",
      "   - **List**: Lists are mutable, which means you can change their content after they are created. You can add, remove, or modify elements.\n",
      "     ```python\n",
      "     my_list = [1, 2, 3]\n",
      "     my_list.append(4)  # Now my_list is [1, 2, 3, 4]\n",
      "     ```\n",
      "   - **Tuple**: Tuples are immutable, meaning once they are created, you cannot change their content. You can't add, remove, or modify elements.\n",
      "     ```python\n",
      "     my_tuple = (1, 2, 3)\n",
      "     # my_tuple[0] = 4  # This would raise a TypeError\n",
      "     ```\n",
      "\n",
      "2. **Syntax**:\n",
      "   - **List**: Lists are defined using square brackets `[]`.\n",
      "   - **Tuple**: Tuples are defined using parentheses `()`.\n",
      "\n",
      "3. **Performance**:\n",
      "   - **List**: Because lists are mutable, they generally have a bit more overhead in terms of performance.\n",
      "   - **Tuple**: Tuples, being immutable, can be slightly faster and use less memory.\n",
      "\n",
      "4. **Use Cases**:\n",
      "   - **List**: Use lists when you need a collection of items that may change over time, like a shopping cart or a list of user inputs.\n",
      "   - **Tuple**: Use tuples when you want to store a fixed collection of items that should not change, like coordinates (x, y) or a record of data.\n",
      "\n",
      "Here’s a quick example to illustrate both:\n",
      "```python\n",
      "# List example\n",
      "fruits = ['apple', 'banana', 'cherry']\n",
      "fruits.append('date')  # Modifying the list\n",
      "print(fruits)  # Output: ['apple', 'banana', 'cherry', 'date']\n",
      "\n",
      "# Tuple example\n",
      "coordinates = (10, 20)\n",
      "# coordinates[0] = 15  # This would raise an error\n",
      "print(coordinates)  # Output: (10, 20)\n",
      "```\n",
      "\n",
      "In summary, choose lists when you need flexibility and tuples when you need a fixed collection. If you have any more questions or need further clarification, feel free to ask!\n",
      "\n"
     ]
    }
   ],
   "source": [
    "# First existential crisis of the semester\n",
    "question = \"How do I survive on ramen noodles and energy drinks without dying? Asking for a friend 👀\"\n",
    "ai_answer = college_meme_system(question, langsmith_extra={\"metadata\": {\"session_id\": meme_session_id, \"crisis_level\": \"moderate\", \"question_number\": 1}})\n",
    "print(f\"Student Crisis #1: {question}\")\n",
    "print(f\"Meme Advisor Response: {ai_answer}\\n\")"
   ]
  },
  {
   "cell_type": "code",
   "execution_count": null,
   "metadata": {},
   "outputs": [
    {
     "name": "stdout",
     "output_type": "stream",
     "text": [
      "Q2: When should I use a tuple instead of a list in my Python programs?\n",
      "A2: That's a great question! In Python, both tuples and lists are used to store collections of items, but they have some key differences that can guide your choice between them.\n",
      "\n",
      "1. **Mutability**: The most significant difference is that lists are mutable, meaning you can change their content (add, remove, or modify elements) after creation. Tuples, on the other hand, are immutable, which means once you create a tuple, you cannot change its content. If you need a collection of items that should not change throughout the program, a tuple is a good choice.\n",
      "\n",
      "   **Example**:\n",
      "   ```python\n",
      "   my_list = [1, 2, 3]\n",
      "   my_list[0] = 10  # This is fine\n",
      "   print(my_list)  # Output: [10, 2, 3]\n",
      "\n",
      "   my_tuple = (1, 2, 3)\n",
      "   # my_tuple[0] = 10  # This would raise a TypeError\n",
      "   ```\n",
      "\n",
      "2. **Performance**: Tuples can be slightly faster than lists when it comes to iteration and access. This is because they are fixed in size and their immutability allows Python to optimize their storage. If performance is a critical factor and you have a collection of items that won’t change, consider using tuples.\n",
      "\n",
      "3. **Use Cases**: \n",
      "   - Use a **list** when you need a collection of items that can change, like a list of user inputs or a collection of objects that you might modify.\n",
      "   - Use a **tuple** when you want to represent a fixed collection of items, such as coordinates (x, y) or a record of data that should remain constant.\n",
      "\n",
      "4. **Semantic Meaning**: Sometimes, the choice between a tuple and a list can also convey meaning. For example, tuples are often used to represent a single record or a fixed set of related values, while lists are used for collections of items.\n",
      "\n",
      "Here’s a quick summary:\n",
      "- **Use a list**: When you need a mutable collection of items.\n",
      "- **Use a tuple**: When you need an immutable collection, want to ensure the data remains constant, or need a slight performance boost.\n",
      "\n",
      "If you have any specific scenarios in mind where you're unsure whether to use a list or a tuple, feel free to share!\n",
      "\n"
     ]
    }
   ],
   "source": [
    "# Follow-up crisis in the same therapeutic session\n",
    "question = \"Why does my professor expect me to read 50 pages when I can barely read my own texts back? 😭\"\n",
    "ai_answer = college_meme_system(question, langsmith_extra={\"metadata\": {\"session_id\": meme_session_id, \"crisis_level\": \"maximum\", \"question_number\": 2}})\n",
    "print(f\"Student Crisis #2: {question}\")\n",
    "print(f\"Meme Advisor Response: {ai_answer}\\n\")"
   ]
  },
  {
   "cell_type": "code",
   "execution_count": null,
   "metadata": {},
   "outputs": [],
   "source": [
    "question = \"Is it normal to have 47 assignments due tomorrow and still be watching TikToks at 3 AM? No? Just me? 🤡\"\n",
    "ai_answer = college_meme_system(question, langsmith_extra={\"metadata\": {\"session_id\": meme_session_id, \"crisis_level\": \"legendary\", \"question_number\": 3, \"time\": \"3am_tiktok_hours\"}})\n",
    "print(f\"Student Crisis #3 (The Final Boss): {question}\")\n",
    "print(f\"Meme Advisor Response: {ai_answer}\\n\")"
   ]
  },
  {
   "cell_type": "markdown",
   "metadata": {},
   "source": [
    "### Let's take a look in LangSmith! 🔥"
   ]
  }
 ],
 "metadata": {
  "kernelspec": {
   "display_name": "Python 3",
   "language": "python",
   "name": "python3"
  },
  "language_info": {
   "codemirror_mode": {
    "name": "ipython",
    "version": 3
   },
   "file_extension": ".py",
   "mimetype": "text/x-python",
   "name": "python",
   "nbconvert_exporter": "python",
   "pygments_lexer": "ipython3",
   "version": "3.12.6"
  }
 },
 "nbformat": 4,
 "nbformat_minor": 4
}
